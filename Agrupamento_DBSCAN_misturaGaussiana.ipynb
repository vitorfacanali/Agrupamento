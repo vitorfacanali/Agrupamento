{
 "cells": [
  {
   "cell_type": "markdown",
   "id": "4c77a853",
   "metadata": {},
   "source": [
    "# Agrupamento"
   ]
  },
  {
   "cell_type": "markdown",
   "id": "a06c602b",
   "metadata": {},
   "source": [
    "## DBSCAN"
   ]
  },
  {
   "cell_type": "markdown",
   "id": "5ad513f9",
   "metadata": {},
   "source": [
    "Densed-Based Spatial Clustering of Application with Noises ou agrupamento espacial de aplicativos com ruído baseado em densidade, é um método de agrupamento baseado em densidade, no qual encontra as vizinhanças dos pontos de dados que excedem certo limite de densidade, sendo definido por dois parâmetros: **o raio da vizinhança ou threshold(eps) e o número mínimo de vizinhos / pontos de dados (minPts)** dentro do raio da vizinhança.\n",
    "\n",
    "- A maior vantagem é que não precisa colocar o número de clusters\n",
    "- Robusto contra outliers, uma vez que leva a densidade como parâmetro\n",
    "- **A maior desvantagem é que precisa definir varios valores de eps e min_sample e testa-los, a fim de encontrar o melhor modelo para o caso. Para uma noção inicial, plotar o gráfico**\n",
    "\n",
    "em resumo temos:\n",
    "\n",
    "- eps: a distância máxima entre amostras para serem consideradas do mesmo cluster\n",
    "- min_sample: número mínimo de amostra em uma vizinhança para um ponto ser considerado central, incluido ele.\n",
    "\n",
    "<img src='imagens_agrupamento/dbscan.png'>\n"
   ]
  },
  {
   "cell_type": "markdown",
   "id": "7ff8df91",
   "metadata": {},
   "source": [
    "## Mistura Gaussiana (GMM)"
   ]
  },
  {
   "attachments": {},
   "cell_type": "markdown",
   "id": "8bf7d04a",
   "metadata": {},
   "source": [
    "Basicamente, na mistura gaussiana (**normal**), inicializa-se k gaussianas aleatórias e clusteriza as amostras presentes nessas gaussianas. Após a primeira interação, é calculado novamente as k gaussianas conforme a disposição das amostras clusterizadas e refaz o processo até finalizar todos os pontos.\n",
    "\n",
    "- cheio: cada componente tem sua própria matriz de covariância geral\n",
    "\n",
    "- amarrado: todos os componentes compartilham a mesma matriz de covariância geral\n",
    "\n",
    "- diag: cada componente tem sua própria matriz de covariância diagonal\n",
    "\n",
    "- esférico: cada componente tem sua própria variação única\n",
    "\n",
    "\n",
    "<img src='imagens_agrupamento/gmm_covariancia.png'>\n",
    "\n",
    "<img src='imagens_agrupamento/gmm.png'>\n",
    "\n",
    "<img src='imagens_agrupamento/gmm_resumo.png'>\n"
   ]
  }
 ],
 "metadata": {
  "kernelspec": {
   "display_name": "Python 3",
   "language": "python",
   "name": "python3"
  },
  "language_info": {
   "codemirror_mode": {
    "name": "ipython",
    "version": 3
   },
   "file_extension": ".py",
   "mimetype": "text/x-python",
   "name": "python",
   "nbconvert_exporter": "python",
   "pygments_lexer": "ipython3",
   "version": "3.7.0"
  }
 },
 "nbformat": 4,
 "nbformat_minor": 5
}
