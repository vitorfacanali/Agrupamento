{
 "cells": [
  {
   "cell_type": "markdown",
   "id": "4a2ee018",
   "metadata": {},
   "source": [
    "# Agrupamento"
   ]
  },
  {
   "cell_type": "markdown",
   "id": "ab58b5ba",
   "metadata": {},
   "source": [
    "# Numero de Clusters - Silhueta e Silhueta Simplificada"
   ]
  },
  {
   "cell_type": "markdown",
   "id": "cd4f360c",
   "metadata": {},
   "source": [
    "A análise da silhueta pode ser usada para estudar a distância euclidiana ou manhattan de separação entre os clusters resultantes. O gráfico de silhueta exibe uma medida de quão próximo cada ponto em um cluster está de pontos nos clusters vizinhos e, portanto, fornece uma maneira de avaliar parâmetros como o número de clusters visualmente. Esta medida tem um intervalo de [-1, 1].\n",
    "\n",
    "Coeficientes de silhueta (como esses valores são chamados) próximos a +1 indicam que a amostra está longe dos clusters vizinhos. Um valor de 0 indica que a amostra está no ou muito perto do limite de decisão entre dois clusters vizinhos e valores negativos indicam que essas amostras podem ter sido atribuídas ao cluster errado.\n",
    "\n",
    "<img src='imagens_agrupamento/silhueta.png'>\n",
    "\n",
    "Etapas para encontrar o coeficiente de silhueta de um i'ésimo ponto:\n",
    "\n",
    "- a (i): A distância média desse ponto com todos os outros pontos nos mesmos clusters **(WCSS - 'within-cluster sum of squares')**.\n",
    "- b (i): A distância média desse ponto com todos os pontos no cluster **mais próximo** de seu cluster.\n",
    "- s (i) - coeficiente de silhueta ou iésimo ponto usando a fórmula abaixo mencionada.\n",
    "\n",
    "\n",
    "$$\n",
    "s(i) = \\frac{b(i)-a(i)}{max(b(i),a(i))}\n",
    "$$\n",
    "\n",
    "Por fim, a nota final é dada pela média de todos os valores. Complexidade O(N²).\n",
    "\n",
    "<img src='imagens_agrupamento/silhueta1.png'>\n",
    "\n",
    "<img src='imagens_agrupamento/silhueta2.png'>\n",
    "\n",
    "\n",
    "### Silhueta Simplificada\n",
    "\n",
    "O processo para analise da silhueta simplificada é o mesmo, porém ao invéz de calcular a distância de todos os pontos para todos os pontos, leva-se em conta apenas a distância entre o ponto e os centroides, diminuindo a complexidade.  Complexidade O(N).\n"
   ]
  },
  {
   "cell_type": "markdown",
   "id": "6df08249",
   "metadata": {},
   "source": [
    "## Elbow - Joelho ou Cotovelo"
   ]
  },
  {
   "cell_type": "markdown",
   "id": "d57d100f",
   "metadata": {},
   "source": [
    "A ideia do método de Elbow é **diminuir** o máximo possível a **distância média intra cluster (WCSS)**, sem necessáriamente utilizar o menor WCSS, uma vez que representaria apenas um ponto.\n",
    "\n",
    "<img src='imagens_agrupamento/wcss.png'>\n",
    "\n",
    "<img src='imagens_agrupamento/wcss2.png'>\n",
    "\n",
    "\n",
    "Nesse caso, utiliza-se o número de clusters que possuem um decréssimo significante no que se diz respeito ao valor de WCSS, no caso de cima, 3."
   ]
  }
 ],
 "metadata": {
  "kernelspec": {
   "display_name": "Python 3",
   "language": "python",
   "name": "python3"
  },
  "language_info": {
   "codemirror_mode": {
    "name": "ipython",
    "version": 3
   },
   "file_extension": ".py",
   "mimetype": "text/x-python",
   "name": "python",
   "nbconvert_exporter": "python",
   "pygments_lexer": "ipython3",
   "version": "3.7.0"
  }
 },
 "nbformat": 4,
 "nbformat_minor": 5
}
